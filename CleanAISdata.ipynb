{
  "nbformat": 4,
  "nbformat_minor": 0,
  "metadata": {
    "colab": {
      "name": "tryCleanAISdata.ipynb",
      "provenance": [],
      "collapsed_sections": [],
      "include_colab_link": true
    },
    "kernelspec": {
      "name": "python3",
      "display_name": "Python 3"
    },
    "language_info": {
      "name": "python"
    }
  },
  "cells": [
    {
      "cell_type": "markdown",
      "metadata": {
        "id": "view-in-github",
        "colab_type": "text"
      },
      "source": [
        "<a href=\"https://colab.research.google.com/github/keweiang/AISanomalydetection/blob/main/CleanAISdata.ipynb\" target=\"_parent\"><img src=\"https://colab.research.google.com/assets/colab-badge.svg\" alt=\"Open In Colab\"/></a>"
      ]
    },
    {
      "cell_type": "markdown",
      "source": [
        "Mount Google Drive"
      ],
      "metadata": {
        "id": "9yn-jZsBYi0r"
      }
    },
    {
      "cell_type": "code",
      "source": [
        "from google.colab import drive\n",
        "drive.mount('/content/drive')\n",
        "#use graduate.utm.my account"
      ],
      "metadata": {
        "colab": {
          "base_uri": "https://localhost:8080/"
        },
        "id": "QFU2gEI5XAVI",
        "outputId": "bba240e2-2a13-4c53-ee42-c4b0b6b883ae"
      },
      "execution_count": null,
      "outputs": [
        {
          "output_type": "stream",
          "name": "stdout",
          "text": [
            "Mounted at /content/drive\n"
          ]
        }
      ]
    },
    {
      "cell_type": "markdown",
      "source": [
        "Read every .txt in AIS data folder, give each column the attribute name and select those rows in October only, appended the .txt files"
      ],
      "metadata": {
        "id": "C-mph_AEYnLB"
      }
    },
    {
      "cell_type": "code",
      "source": [
        "import pandas as pd\n",
        "import numpy as np\n",
        "import glob\n",
        "\n",
        "all_data = pd.DataFrame()\n",
        "for f in glob.glob(\"/content/drive/MyDrive/ShipMove/*.txt\"):\n",
        "    df = pd.read_csv(f, delimiter = \";\",header=None, names = ['Date Time','Message ID', 'MMSI Number','Navigation Status','Rate of Turn','Speed Over Ground','Position Accuracy','Longitude','Latitude','Course Over Ground','Heading Angle','Timestamp','Channel of AIS','Repeat Indicator'])\n",
        "    df=df[(df['Date Time']>= '2019-10-01') & (df['Date Time']<= '2019-10-04')]    #filter October 1 to October 4 data only -> 4 days data\n",
        "    all_data = all_data.append(df,ignore_index=True)"
      ],
      "metadata": {
        "id": "njrdRpALV6oV"
      },
      "execution_count": null,
      "outputs": []
    },
    {
      "cell_type": "markdown",
      "source": [
        "Drop those less important features that cannot contribute to determine abnomalies, select those important features into AISdata.csv"
      ],
      "metadata": {
        "id": "2FBOZiJnZKL5"
      }
    },
    {
      "cell_type": "code",
      "source": [
        "from google.colab import files\n",
        "all_data.drop(['Message ID', 'Navigation Status','Position Accuracy','Repeat Indicator'], inplace=True, axis = 1)\n",
        "all_data"
      ],
      "metadata": {
        "id": "T5-ovyVrjYi6",
        "colab": {
          "base_uri": "https://localhost:8080/",
          "height": 468
        },
        "outputId": "8cf9dd59-8edd-414c-d547-719dbf565b3a"
      },
      "execution_count": null,
      "outputs": [
        {
          "output_type": "execute_result",
          "data": {
            "text/html": [
              "\n",
              "  <div id=\"df-d5ca1efe-f262-40f6-888a-d453641e85f4\">\n",
              "    <div class=\"colab-df-container\">\n",
              "      <div>\n",
              "<style scoped>\n",
              "    .dataframe tbody tr th:only-of-type {\n",
              "        vertical-align: middle;\n",
              "    }\n",
              "\n",
              "    .dataframe tbody tr th {\n",
              "        vertical-align: top;\n",
              "    }\n",
              "\n",
              "    .dataframe thead th {\n",
              "        text-align: right;\n",
              "    }\n",
              "</style>\n",
              "<table border=\"1\" class=\"dataframe\">\n",
              "  <thead>\n",
              "    <tr style=\"text-align: right;\">\n",
              "      <th></th>\n",
              "      <th>Date Time</th>\n",
              "      <th>MMSI Number</th>\n",
              "      <th>Rate of Turn</th>\n",
              "      <th>Speed Over Ground</th>\n",
              "      <th>Longitude</th>\n",
              "      <th>Latitude</th>\n",
              "      <th>Course Over Ground</th>\n",
              "      <th>Heading Angle</th>\n",
              "      <th>Timestamp</th>\n",
              "      <th>Channel of AIS</th>\n",
              "    </tr>\n",
              "  </thead>\n",
              "  <tbody>\n",
              "    <tr>\n",
              "      <th>0</th>\n",
              "      <td>2019-10-01 03:57:29.643849</td>\n",
              "      <td>566241000</td>\n",
              "      <td>0</td>\n",
              "      <td>0.0</td>\n",
              "      <td>103.782597</td>\n",
              "      <td>1.274448</td>\n",
              "      <td>18.8</td>\n",
              "      <td>126</td>\n",
              "      <td>29</td>\n",
              "      <td>A</td>\n",
              "    </tr>\n",
              "    <tr>\n",
              "      <th>1</th>\n",
              "      <td>2019-10-01 04:09:28.716233</td>\n",
              "      <td>566241000</td>\n",
              "      <td>0</td>\n",
              "      <td>0.0</td>\n",
              "      <td>103.782650</td>\n",
              "      <td>1.274480</td>\n",
              "      <td>18.8</td>\n",
              "      <td>126</td>\n",
              "      <td>29</td>\n",
              "      <td>A</td>\n",
              "    </tr>\n",
              "    <tr>\n",
              "      <th>2</th>\n",
              "      <td>2019-10-01 04:15:28.319625</td>\n",
              "      <td>566241000</td>\n",
              "      <td>0</td>\n",
              "      <td>0.0</td>\n",
              "      <td>103.782645</td>\n",
              "      <td>1.274455</td>\n",
              "      <td>18.8</td>\n",
              "      <td>126</td>\n",
              "      <td>29</td>\n",
              "      <td>A</td>\n",
              "    </tr>\n",
              "    <tr>\n",
              "      <th>3</th>\n",
              "      <td>2019-10-01 04:34:07.182831</td>\n",
              "      <td>566241000</td>\n",
              "      <td>0</td>\n",
              "      <td>0.0</td>\n",
              "      <td>103.782647</td>\n",
              "      <td>1.274438</td>\n",
              "      <td>18.8</td>\n",
              "      <td>126</td>\n",
              "      <td>9</td>\n",
              "      <td>A</td>\n",
              "    </tr>\n",
              "    <tr>\n",
              "      <th>4</th>\n",
              "      <td>2019-10-01 04:36:07.206859</td>\n",
              "      <td>566241000</td>\n",
              "      <td>0</td>\n",
              "      <td>0.0</td>\n",
              "      <td>103.782602</td>\n",
              "      <td>1.274432</td>\n",
              "      <td>18.8</td>\n",
              "      <td>126</td>\n",
              "      <td>9</td>\n",
              "      <td>A</td>\n",
              "    </tr>\n",
              "    <tr>\n",
              "      <th>...</th>\n",
              "      <td>...</td>\n",
              "      <td>...</td>\n",
              "      <td>...</td>\n",
              "      <td>...</td>\n",
              "      <td>...</td>\n",
              "      <td>...</td>\n",
              "      <td>...</td>\n",
              "      <td>...</td>\n",
              "      <td>...</td>\n",
              "      <td>...</td>\n",
              "    </tr>\n",
              "    <tr>\n",
              "      <th>968771</th>\n",
              "      <td>2019-10-02 23:17:00.199384</td>\n",
              "      <td>248437000</td>\n",
              "      <td>251</td>\n",
              "      <td>0.0</td>\n",
              "      <td>103.872045</td>\n",
              "      <td>1.267475</td>\n",
              "      <td>96.3</td>\n",
              "      <td>29</td>\n",
              "      <td>0</td>\n",
              "      <td>A</td>\n",
              "    </tr>\n",
              "    <tr>\n",
              "      <th>968772</th>\n",
              "      <td>2019-10-03 01:34:59.761764</td>\n",
              "      <td>248437000</td>\n",
              "      <td>5</td>\n",
              "      <td>0.0</td>\n",
              "      <td>103.872008</td>\n",
              "      <td>1.267585</td>\n",
              "      <td>290.6</td>\n",
              "      <td>25</td>\n",
              "      <td>0</td>\n",
              "      <td>A</td>\n",
              "    </tr>\n",
              "    <tr>\n",
              "      <th>968773</th>\n",
              "      <td>2019-10-03 04:10:59.369565</td>\n",
              "      <td>248437000</td>\n",
              "      <td>251</td>\n",
              "      <td>0.0</td>\n",
              "      <td>103.872055</td>\n",
              "      <td>1.267527</td>\n",
              "      <td>340.1</td>\n",
              "      <td>31</td>\n",
              "      <td>59</td>\n",
              "      <td>A</td>\n",
              "    </tr>\n",
              "    <tr>\n",
              "      <th>968774</th>\n",
              "      <td>2019-10-03 04:52:58.641309</td>\n",
              "      <td>248437000</td>\n",
              "      <td>251</td>\n",
              "      <td>0.0</td>\n",
              "      <td>103.872040</td>\n",
              "      <td>1.267527</td>\n",
              "      <td>302.4</td>\n",
              "      <td>29</td>\n",
              "      <td>59</td>\n",
              "      <td>A</td>\n",
              "    </tr>\n",
              "    <tr>\n",
              "      <th>968775</th>\n",
              "      <td>2019-10-03 05:46:58.610344</td>\n",
              "      <td>248437000</td>\n",
              "      <td>0</td>\n",
              "      <td>0.0</td>\n",
              "      <td>103.872013</td>\n",
              "      <td>1.267545</td>\n",
              "      <td>96.5</td>\n",
              "      <td>40</td>\n",
              "      <td>59</td>\n",
              "      <td>A</td>\n",
              "    </tr>\n",
              "  </tbody>\n",
              "</table>\n",
              "<p>968776 rows × 10 columns</p>\n",
              "</div>\n",
              "      <button class=\"colab-df-convert\" onclick=\"convertToInteractive('df-d5ca1efe-f262-40f6-888a-d453641e85f4')\"\n",
              "              title=\"Convert this dataframe to an interactive table.\"\n",
              "              style=\"display:none;\">\n",
              "        \n",
              "  <svg xmlns=\"http://www.w3.org/2000/svg\" height=\"24px\"viewBox=\"0 0 24 24\"\n",
              "       width=\"24px\">\n",
              "    <path d=\"M0 0h24v24H0V0z\" fill=\"none\"/>\n",
              "    <path d=\"M18.56 5.44l.94 2.06.94-2.06 2.06-.94-2.06-.94-.94-2.06-.94 2.06-2.06.94zm-11 1L8.5 8.5l.94-2.06 2.06-.94-2.06-.94L8.5 2.5l-.94 2.06-2.06.94zm10 10l.94 2.06.94-2.06 2.06-.94-2.06-.94-.94-2.06-.94 2.06-2.06.94z\"/><path d=\"M17.41 7.96l-1.37-1.37c-.4-.4-.92-.59-1.43-.59-.52 0-1.04.2-1.43.59L10.3 9.45l-7.72 7.72c-.78.78-.78 2.05 0 2.83L4 21.41c.39.39.9.59 1.41.59.51 0 1.02-.2 1.41-.59l7.78-7.78 2.81-2.81c.8-.78.8-2.07 0-2.86zM5.41 20L4 18.59l7.72-7.72 1.47 1.35L5.41 20z\"/>\n",
              "  </svg>\n",
              "      </button>\n",
              "      \n",
              "  <style>\n",
              "    .colab-df-container {\n",
              "      display:flex;\n",
              "      flex-wrap:wrap;\n",
              "      gap: 12px;\n",
              "    }\n",
              "\n",
              "    .colab-df-convert {\n",
              "      background-color: #E8F0FE;\n",
              "      border: none;\n",
              "      border-radius: 50%;\n",
              "      cursor: pointer;\n",
              "      display: none;\n",
              "      fill: #1967D2;\n",
              "      height: 32px;\n",
              "      padding: 0 0 0 0;\n",
              "      width: 32px;\n",
              "    }\n",
              "\n",
              "    .colab-df-convert:hover {\n",
              "      background-color: #E2EBFA;\n",
              "      box-shadow: 0px 1px 2px rgba(60, 64, 67, 0.3), 0px 1px 3px 1px rgba(60, 64, 67, 0.15);\n",
              "      fill: #174EA6;\n",
              "    }\n",
              "\n",
              "    [theme=dark] .colab-df-convert {\n",
              "      background-color: #3B4455;\n",
              "      fill: #D2E3FC;\n",
              "    }\n",
              "\n",
              "    [theme=dark] .colab-df-convert:hover {\n",
              "      background-color: #434B5C;\n",
              "      box-shadow: 0px 1px 3px 1px rgba(0, 0, 0, 0.15);\n",
              "      filter: drop-shadow(0px 1px 2px rgba(0, 0, 0, 0.3));\n",
              "      fill: #FFFFFF;\n",
              "    }\n",
              "  </style>\n",
              "\n",
              "      <script>\n",
              "        const buttonEl =\n",
              "          document.querySelector('#df-d5ca1efe-f262-40f6-888a-d453641e85f4 button.colab-df-convert');\n",
              "        buttonEl.style.display =\n",
              "          google.colab.kernel.accessAllowed ? 'block' : 'none';\n",
              "\n",
              "        async function convertToInteractive(key) {\n",
              "          const element = document.querySelector('#df-d5ca1efe-f262-40f6-888a-d453641e85f4');\n",
              "          const dataTable =\n",
              "            await google.colab.kernel.invokeFunction('convertToInteractive',\n",
              "                                                     [key], {});\n",
              "          if (!dataTable) return;\n",
              "\n",
              "          const docLinkHtml = 'Like what you see? Visit the ' +\n",
              "            '<a target=\"_blank\" href=https://colab.research.google.com/notebooks/data_table.ipynb>data table notebook</a>'\n",
              "            + ' to learn more about interactive tables.';\n",
              "          element.innerHTML = '';\n",
              "          dataTable['output_type'] = 'display_data';\n",
              "          await google.colab.output.renderOutput(dataTable, element);\n",
              "          const docLink = document.createElement('div');\n",
              "          docLink.innerHTML = docLinkHtml;\n",
              "          element.appendChild(docLink);\n",
              "        }\n",
              "      </script>\n",
              "    </div>\n",
              "  </div>\n",
              "  "
            ],
            "text/plain": [
              "                         Date Time  MMSI Number  ...  Timestamp  Channel of AIS\n",
              "0       2019-10-01 03:57:29.643849    566241000  ...         29               A\n",
              "1       2019-10-01 04:09:28.716233    566241000  ...         29               A\n",
              "2       2019-10-01 04:15:28.319625    566241000  ...         29               A\n",
              "3       2019-10-01 04:34:07.182831    566241000  ...          9               A\n",
              "4       2019-10-01 04:36:07.206859    566241000  ...          9               A\n",
              "...                            ...          ...  ...        ...             ...\n",
              "968771  2019-10-02 23:17:00.199384    248437000  ...          0               A\n",
              "968772  2019-10-03 01:34:59.761764    248437000  ...          0               A\n",
              "968773  2019-10-03 04:10:59.369565    248437000  ...         59               A\n",
              "968774  2019-10-03 04:52:58.641309    248437000  ...         59               A\n",
              "968775  2019-10-03 05:46:58.610344    248437000  ...         59               A\n",
              "\n",
              "[968776 rows x 10 columns]"
            ]
          },
          "metadata": {},
          "execution_count": 3
        }
      ]
    },
    {
      "cell_type": "code",
      "source": [
        "MMSI=all_data['MMSI Number'].unique()\n",
        "print(MMSI)\n",
        "\n",
        "from numpy import savetxt\n",
        "savetxt('MMSI.csv', MMSI, delimiter='\\n')"
      ],
      "metadata": {
        "colab": {
          "base_uri": "https://localhost:8080/"
        },
        "id": "fvuoBdmIVz1v",
        "outputId": "4aa620dd-6c30-426a-b2ac-5c8d05c9d76e"
      },
      "execution_count": null,
      "outputs": [
        {
          "output_type": "stream",
          "name": "stdout",
          "text": [
            "[566241000 566218000 566282000 ... 563027900 248402000 248437000]\n"
          ]
        }
      ]
    },
    {
      "cell_type": "code",
      "source": [
        "# remove duplicates\n",
        "all_data.drop_duplicates()"
      ],
      "metadata": {
        "colab": {
          "base_uri": "https://localhost:8080/",
          "height": 468
        },
        "id": "pP2FC-MuZDbH",
        "outputId": "394586c0-7a43-4a40-9f20-65b638dd3d6f"
      },
      "execution_count": null,
      "outputs": [
        {
          "output_type": "execute_result",
          "data": {
            "text/html": [
              "\n",
              "  <div id=\"df-21957daf-a192-4208-b14c-73f18cf1ee3b\">\n",
              "    <div class=\"colab-df-container\">\n",
              "      <div>\n",
              "<style scoped>\n",
              "    .dataframe tbody tr th:only-of-type {\n",
              "        vertical-align: middle;\n",
              "    }\n",
              "\n",
              "    .dataframe tbody tr th {\n",
              "        vertical-align: top;\n",
              "    }\n",
              "\n",
              "    .dataframe thead th {\n",
              "        text-align: right;\n",
              "    }\n",
              "</style>\n",
              "<table border=\"1\" class=\"dataframe\">\n",
              "  <thead>\n",
              "    <tr style=\"text-align: right;\">\n",
              "      <th></th>\n",
              "      <th>Date Time</th>\n",
              "      <th>MMSI Number</th>\n",
              "      <th>Rate of Turn</th>\n",
              "      <th>Speed Over Ground</th>\n",
              "      <th>Longitude</th>\n",
              "      <th>Latitude</th>\n",
              "      <th>Course Over Ground</th>\n",
              "      <th>Heading Angle</th>\n",
              "      <th>Timestamp</th>\n",
              "      <th>Channel of AIS</th>\n",
              "    </tr>\n",
              "  </thead>\n",
              "  <tbody>\n",
              "    <tr>\n",
              "      <th>0</th>\n",
              "      <td>2019-10-01 03:57:29.643849</td>\n",
              "      <td>566241000</td>\n",
              "      <td>0</td>\n",
              "      <td>0.0</td>\n",
              "      <td>103.782597</td>\n",
              "      <td>1.274448</td>\n",
              "      <td>18.8</td>\n",
              "      <td>126</td>\n",
              "      <td>29</td>\n",
              "      <td>A</td>\n",
              "    </tr>\n",
              "    <tr>\n",
              "      <th>1</th>\n",
              "      <td>2019-10-01 04:09:28.716233</td>\n",
              "      <td>566241000</td>\n",
              "      <td>0</td>\n",
              "      <td>0.0</td>\n",
              "      <td>103.782650</td>\n",
              "      <td>1.274480</td>\n",
              "      <td>18.8</td>\n",
              "      <td>126</td>\n",
              "      <td>29</td>\n",
              "      <td>A</td>\n",
              "    </tr>\n",
              "    <tr>\n",
              "      <th>2</th>\n",
              "      <td>2019-10-01 04:15:28.319625</td>\n",
              "      <td>566241000</td>\n",
              "      <td>0</td>\n",
              "      <td>0.0</td>\n",
              "      <td>103.782645</td>\n",
              "      <td>1.274455</td>\n",
              "      <td>18.8</td>\n",
              "      <td>126</td>\n",
              "      <td>29</td>\n",
              "      <td>A</td>\n",
              "    </tr>\n",
              "    <tr>\n",
              "      <th>3</th>\n",
              "      <td>2019-10-01 04:34:07.182831</td>\n",
              "      <td>566241000</td>\n",
              "      <td>0</td>\n",
              "      <td>0.0</td>\n",
              "      <td>103.782647</td>\n",
              "      <td>1.274438</td>\n",
              "      <td>18.8</td>\n",
              "      <td>126</td>\n",
              "      <td>9</td>\n",
              "      <td>A</td>\n",
              "    </tr>\n",
              "    <tr>\n",
              "      <th>4</th>\n",
              "      <td>2019-10-01 04:36:07.206859</td>\n",
              "      <td>566241000</td>\n",
              "      <td>0</td>\n",
              "      <td>0.0</td>\n",
              "      <td>103.782602</td>\n",
              "      <td>1.274432</td>\n",
              "      <td>18.8</td>\n",
              "      <td>126</td>\n",
              "      <td>9</td>\n",
              "      <td>A</td>\n",
              "    </tr>\n",
              "    <tr>\n",
              "      <th>...</th>\n",
              "      <td>...</td>\n",
              "      <td>...</td>\n",
              "      <td>...</td>\n",
              "      <td>...</td>\n",
              "      <td>...</td>\n",
              "      <td>...</td>\n",
              "      <td>...</td>\n",
              "      <td>...</td>\n",
              "      <td>...</td>\n",
              "      <td>...</td>\n",
              "    </tr>\n",
              "    <tr>\n",
              "      <th>968771</th>\n",
              "      <td>2019-10-02 23:17:00.199384</td>\n",
              "      <td>248437000</td>\n",
              "      <td>251</td>\n",
              "      <td>0.0</td>\n",
              "      <td>103.872045</td>\n",
              "      <td>1.267475</td>\n",
              "      <td>96.3</td>\n",
              "      <td>29</td>\n",
              "      <td>0</td>\n",
              "      <td>A</td>\n",
              "    </tr>\n",
              "    <tr>\n",
              "      <th>968772</th>\n",
              "      <td>2019-10-03 01:34:59.761764</td>\n",
              "      <td>248437000</td>\n",
              "      <td>5</td>\n",
              "      <td>0.0</td>\n",
              "      <td>103.872008</td>\n",
              "      <td>1.267585</td>\n",
              "      <td>290.6</td>\n",
              "      <td>25</td>\n",
              "      <td>0</td>\n",
              "      <td>A</td>\n",
              "    </tr>\n",
              "    <tr>\n",
              "      <th>968773</th>\n",
              "      <td>2019-10-03 04:10:59.369565</td>\n",
              "      <td>248437000</td>\n",
              "      <td>251</td>\n",
              "      <td>0.0</td>\n",
              "      <td>103.872055</td>\n",
              "      <td>1.267527</td>\n",
              "      <td>340.1</td>\n",
              "      <td>31</td>\n",
              "      <td>59</td>\n",
              "      <td>A</td>\n",
              "    </tr>\n",
              "    <tr>\n",
              "      <th>968774</th>\n",
              "      <td>2019-10-03 04:52:58.641309</td>\n",
              "      <td>248437000</td>\n",
              "      <td>251</td>\n",
              "      <td>0.0</td>\n",
              "      <td>103.872040</td>\n",
              "      <td>1.267527</td>\n",
              "      <td>302.4</td>\n",
              "      <td>29</td>\n",
              "      <td>59</td>\n",
              "      <td>A</td>\n",
              "    </tr>\n",
              "    <tr>\n",
              "      <th>968775</th>\n",
              "      <td>2019-10-03 05:46:58.610344</td>\n",
              "      <td>248437000</td>\n",
              "      <td>0</td>\n",
              "      <td>0.0</td>\n",
              "      <td>103.872013</td>\n",
              "      <td>1.267545</td>\n",
              "      <td>96.5</td>\n",
              "      <td>40</td>\n",
              "      <td>59</td>\n",
              "      <td>A</td>\n",
              "    </tr>\n",
              "  </tbody>\n",
              "</table>\n",
              "<p>968099 rows × 10 columns</p>\n",
              "</div>\n",
              "      <button class=\"colab-df-convert\" onclick=\"convertToInteractive('df-21957daf-a192-4208-b14c-73f18cf1ee3b')\"\n",
              "              title=\"Convert this dataframe to an interactive table.\"\n",
              "              style=\"display:none;\">\n",
              "        \n",
              "  <svg xmlns=\"http://www.w3.org/2000/svg\" height=\"24px\"viewBox=\"0 0 24 24\"\n",
              "       width=\"24px\">\n",
              "    <path d=\"M0 0h24v24H0V0z\" fill=\"none\"/>\n",
              "    <path d=\"M18.56 5.44l.94 2.06.94-2.06 2.06-.94-2.06-.94-.94-2.06-.94 2.06-2.06.94zm-11 1L8.5 8.5l.94-2.06 2.06-.94-2.06-.94L8.5 2.5l-.94 2.06-2.06.94zm10 10l.94 2.06.94-2.06 2.06-.94-2.06-.94-.94-2.06-.94 2.06-2.06.94z\"/><path d=\"M17.41 7.96l-1.37-1.37c-.4-.4-.92-.59-1.43-.59-.52 0-1.04.2-1.43.59L10.3 9.45l-7.72 7.72c-.78.78-.78 2.05 0 2.83L4 21.41c.39.39.9.59 1.41.59.51 0 1.02-.2 1.41-.59l7.78-7.78 2.81-2.81c.8-.78.8-2.07 0-2.86zM5.41 20L4 18.59l7.72-7.72 1.47 1.35L5.41 20z\"/>\n",
              "  </svg>\n",
              "      </button>\n",
              "      \n",
              "  <style>\n",
              "    .colab-df-container {\n",
              "      display:flex;\n",
              "      flex-wrap:wrap;\n",
              "      gap: 12px;\n",
              "    }\n",
              "\n",
              "    .colab-df-convert {\n",
              "      background-color: #E8F0FE;\n",
              "      border: none;\n",
              "      border-radius: 50%;\n",
              "      cursor: pointer;\n",
              "      display: none;\n",
              "      fill: #1967D2;\n",
              "      height: 32px;\n",
              "      padding: 0 0 0 0;\n",
              "      width: 32px;\n",
              "    }\n",
              "\n",
              "    .colab-df-convert:hover {\n",
              "      background-color: #E2EBFA;\n",
              "      box-shadow: 0px 1px 2px rgba(60, 64, 67, 0.3), 0px 1px 3px 1px rgba(60, 64, 67, 0.15);\n",
              "      fill: #174EA6;\n",
              "    }\n",
              "\n",
              "    [theme=dark] .colab-df-convert {\n",
              "      background-color: #3B4455;\n",
              "      fill: #D2E3FC;\n",
              "    }\n",
              "\n",
              "    [theme=dark] .colab-df-convert:hover {\n",
              "      background-color: #434B5C;\n",
              "      box-shadow: 0px 1px 3px 1px rgba(0, 0, 0, 0.15);\n",
              "      filter: drop-shadow(0px 1px 2px rgba(0, 0, 0, 0.3));\n",
              "      fill: #FFFFFF;\n",
              "    }\n",
              "  </style>\n",
              "\n",
              "      <script>\n",
              "        const buttonEl =\n",
              "          document.querySelector('#df-21957daf-a192-4208-b14c-73f18cf1ee3b button.colab-df-convert');\n",
              "        buttonEl.style.display =\n",
              "          google.colab.kernel.accessAllowed ? 'block' : 'none';\n",
              "\n",
              "        async function convertToInteractive(key) {\n",
              "          const element = document.querySelector('#df-21957daf-a192-4208-b14c-73f18cf1ee3b');\n",
              "          const dataTable =\n",
              "            await google.colab.kernel.invokeFunction('convertToInteractive',\n",
              "                                                     [key], {});\n",
              "          if (!dataTable) return;\n",
              "\n",
              "          const docLinkHtml = 'Like what you see? Visit the ' +\n",
              "            '<a target=\"_blank\" href=https://colab.research.google.com/notebooks/data_table.ipynb>data table notebook</a>'\n",
              "            + ' to learn more about interactive tables.';\n",
              "          element.innerHTML = '';\n",
              "          dataTable['output_type'] = 'display_data';\n",
              "          await google.colab.output.renderOutput(dataTable, element);\n",
              "          const docLink = document.createElement('div');\n",
              "          docLink.innerHTML = docLinkHtml;\n",
              "          element.appendChild(docLink);\n",
              "        }\n",
              "      </script>\n",
              "    </div>\n",
              "  </div>\n",
              "  "
            ],
            "text/plain": [
              "                         Date Time  MMSI Number  ...  Timestamp  Channel of AIS\n",
              "0       2019-10-01 03:57:29.643849    566241000  ...         29               A\n",
              "1       2019-10-01 04:09:28.716233    566241000  ...         29               A\n",
              "2       2019-10-01 04:15:28.319625    566241000  ...         29               A\n",
              "3       2019-10-01 04:34:07.182831    566241000  ...          9               A\n",
              "4       2019-10-01 04:36:07.206859    566241000  ...          9               A\n",
              "...                            ...          ...  ...        ...             ...\n",
              "968771  2019-10-02 23:17:00.199384    248437000  ...          0               A\n",
              "968772  2019-10-03 01:34:59.761764    248437000  ...          0               A\n",
              "968773  2019-10-03 04:10:59.369565    248437000  ...         59               A\n",
              "968774  2019-10-03 04:52:58.641309    248437000  ...         59               A\n",
              "968775  2019-10-03 05:46:58.610344    248437000  ...         59               A\n",
              "\n",
              "[968099 rows x 10 columns]"
            ]
          },
          "metadata": {},
          "execution_count": 10
        }
      ]
    },
    {
      "cell_type": "code",
      "source": [
        "# filter data within Straits of Malacca and Singapore only\n",
        "all_data=all_data[(((all_data['Longitude']>=103.4525)&(all_data['Longitude']<=104.3689))&((all_data['Latitude']>=1.1354)&(all_data['Latitude']<=1.6443)))|(((all_data['Longitude']>=98.025)&(all_data['Longitude']<=103.5121))&((all_data['Latitude']>=1.2107)&(all_data['Latitude']<=6.535)))]    \n",
        "all_data\n"
      ],
      "metadata": {
        "colab": {
          "base_uri": "https://localhost:8080/",
          "height": 468
        },
        "id": "BFqtXpL8uOq2",
        "outputId": "a76eda8a-a7ca-4a23-ae0b-711d5c10417d"
      },
      "execution_count": null,
      "outputs": [
        {
          "output_type": "execute_result",
          "data": {
            "text/html": [
              "\n",
              "  <div id=\"df-89dc0413-820e-47cb-a271-a264c54f4676\">\n",
              "    <div class=\"colab-df-container\">\n",
              "      <div>\n",
              "<style scoped>\n",
              "    .dataframe tbody tr th:only-of-type {\n",
              "        vertical-align: middle;\n",
              "    }\n",
              "\n",
              "    .dataframe tbody tr th {\n",
              "        vertical-align: top;\n",
              "    }\n",
              "\n",
              "    .dataframe thead th {\n",
              "        text-align: right;\n",
              "    }\n",
              "</style>\n",
              "<table border=\"1\" class=\"dataframe\">\n",
              "  <thead>\n",
              "    <tr style=\"text-align: right;\">\n",
              "      <th></th>\n",
              "      <th>Date Time</th>\n",
              "      <th>MMSI Number</th>\n",
              "      <th>Rate of Turn</th>\n",
              "      <th>Speed Over Ground</th>\n",
              "      <th>Longitude</th>\n",
              "      <th>Latitude</th>\n",
              "      <th>Course Over Ground</th>\n",
              "      <th>Heading Angle</th>\n",
              "      <th>Timestamp</th>\n",
              "      <th>Channel of AIS</th>\n",
              "    </tr>\n",
              "  </thead>\n",
              "  <tbody>\n",
              "    <tr>\n",
              "      <th>0</th>\n",
              "      <td>2019-10-01 03:57:29.643849</td>\n",
              "      <td>566241000</td>\n",
              "      <td>0</td>\n",
              "      <td>0.0</td>\n",
              "      <td>103.782597</td>\n",
              "      <td>1.274448</td>\n",
              "      <td>18.8</td>\n",
              "      <td>126</td>\n",
              "      <td>29</td>\n",
              "      <td>A</td>\n",
              "    </tr>\n",
              "    <tr>\n",
              "      <th>1</th>\n",
              "      <td>2019-10-01 04:09:28.716233</td>\n",
              "      <td>566241000</td>\n",
              "      <td>0</td>\n",
              "      <td>0.0</td>\n",
              "      <td>103.782650</td>\n",
              "      <td>1.274480</td>\n",
              "      <td>18.8</td>\n",
              "      <td>126</td>\n",
              "      <td>29</td>\n",
              "      <td>A</td>\n",
              "    </tr>\n",
              "    <tr>\n",
              "      <th>2</th>\n",
              "      <td>2019-10-01 04:15:28.319625</td>\n",
              "      <td>566241000</td>\n",
              "      <td>0</td>\n",
              "      <td>0.0</td>\n",
              "      <td>103.782645</td>\n",
              "      <td>1.274455</td>\n",
              "      <td>18.8</td>\n",
              "      <td>126</td>\n",
              "      <td>29</td>\n",
              "      <td>A</td>\n",
              "    </tr>\n",
              "    <tr>\n",
              "      <th>3</th>\n",
              "      <td>2019-10-01 04:34:07.182831</td>\n",
              "      <td>566241000</td>\n",
              "      <td>0</td>\n",
              "      <td>0.0</td>\n",
              "      <td>103.782647</td>\n",
              "      <td>1.274438</td>\n",
              "      <td>18.8</td>\n",
              "      <td>126</td>\n",
              "      <td>9</td>\n",
              "      <td>A</td>\n",
              "    </tr>\n",
              "    <tr>\n",
              "      <th>4</th>\n",
              "      <td>2019-10-01 04:36:07.206859</td>\n",
              "      <td>566241000</td>\n",
              "      <td>0</td>\n",
              "      <td>0.0</td>\n",
              "      <td>103.782602</td>\n",
              "      <td>1.274432</td>\n",
              "      <td>18.8</td>\n",
              "      <td>126</td>\n",
              "      <td>9</td>\n",
              "      <td>A</td>\n",
              "    </tr>\n",
              "    <tr>\n",
              "      <th>...</th>\n",
              "      <td>...</td>\n",
              "      <td>...</td>\n",
              "      <td>...</td>\n",
              "      <td>...</td>\n",
              "      <td>...</td>\n",
              "      <td>...</td>\n",
              "      <td>...</td>\n",
              "      <td>...</td>\n",
              "      <td>...</td>\n",
              "      <td>...</td>\n",
              "    </tr>\n",
              "    <tr>\n",
              "      <th>968771</th>\n",
              "      <td>2019-10-02 23:17:00.199384</td>\n",
              "      <td>248437000</td>\n",
              "      <td>251</td>\n",
              "      <td>0.0</td>\n",
              "      <td>103.872045</td>\n",
              "      <td>1.267475</td>\n",
              "      <td>96.3</td>\n",
              "      <td>29</td>\n",
              "      <td>0</td>\n",
              "      <td>A</td>\n",
              "    </tr>\n",
              "    <tr>\n",
              "      <th>968772</th>\n",
              "      <td>2019-10-03 01:34:59.761764</td>\n",
              "      <td>248437000</td>\n",
              "      <td>5</td>\n",
              "      <td>0.0</td>\n",
              "      <td>103.872008</td>\n",
              "      <td>1.267585</td>\n",
              "      <td>290.6</td>\n",
              "      <td>25</td>\n",
              "      <td>0</td>\n",
              "      <td>A</td>\n",
              "    </tr>\n",
              "    <tr>\n",
              "      <th>968773</th>\n",
              "      <td>2019-10-03 04:10:59.369565</td>\n",
              "      <td>248437000</td>\n",
              "      <td>251</td>\n",
              "      <td>0.0</td>\n",
              "      <td>103.872055</td>\n",
              "      <td>1.267527</td>\n",
              "      <td>340.1</td>\n",
              "      <td>31</td>\n",
              "      <td>59</td>\n",
              "      <td>A</td>\n",
              "    </tr>\n",
              "    <tr>\n",
              "      <th>968774</th>\n",
              "      <td>2019-10-03 04:52:58.641309</td>\n",
              "      <td>248437000</td>\n",
              "      <td>251</td>\n",
              "      <td>0.0</td>\n",
              "      <td>103.872040</td>\n",
              "      <td>1.267527</td>\n",
              "      <td>302.4</td>\n",
              "      <td>29</td>\n",
              "      <td>59</td>\n",
              "      <td>A</td>\n",
              "    </tr>\n",
              "    <tr>\n",
              "      <th>968775</th>\n",
              "      <td>2019-10-03 05:46:58.610344</td>\n",
              "      <td>248437000</td>\n",
              "      <td>0</td>\n",
              "      <td>0.0</td>\n",
              "      <td>103.872013</td>\n",
              "      <td>1.267545</td>\n",
              "      <td>96.5</td>\n",
              "      <td>40</td>\n",
              "      <td>59</td>\n",
              "      <td>A</td>\n",
              "    </tr>\n",
              "  </tbody>\n",
              "</table>\n",
              "<p>932568 rows × 10 columns</p>\n",
              "</div>\n",
              "      <button class=\"colab-df-convert\" onclick=\"convertToInteractive('df-89dc0413-820e-47cb-a271-a264c54f4676')\"\n",
              "              title=\"Convert this dataframe to an interactive table.\"\n",
              "              style=\"display:none;\">\n",
              "        \n",
              "  <svg xmlns=\"http://www.w3.org/2000/svg\" height=\"24px\"viewBox=\"0 0 24 24\"\n",
              "       width=\"24px\">\n",
              "    <path d=\"M0 0h24v24H0V0z\" fill=\"none\"/>\n",
              "    <path d=\"M18.56 5.44l.94 2.06.94-2.06 2.06-.94-2.06-.94-.94-2.06-.94 2.06-2.06.94zm-11 1L8.5 8.5l.94-2.06 2.06-.94-2.06-.94L8.5 2.5l-.94 2.06-2.06.94zm10 10l.94 2.06.94-2.06 2.06-.94-2.06-.94-.94-2.06-.94 2.06-2.06.94z\"/><path d=\"M17.41 7.96l-1.37-1.37c-.4-.4-.92-.59-1.43-.59-.52 0-1.04.2-1.43.59L10.3 9.45l-7.72 7.72c-.78.78-.78 2.05 0 2.83L4 21.41c.39.39.9.59 1.41.59.51 0 1.02-.2 1.41-.59l7.78-7.78 2.81-2.81c.8-.78.8-2.07 0-2.86zM5.41 20L4 18.59l7.72-7.72 1.47 1.35L5.41 20z\"/>\n",
              "  </svg>\n",
              "      </button>\n",
              "      \n",
              "  <style>\n",
              "    .colab-df-container {\n",
              "      display:flex;\n",
              "      flex-wrap:wrap;\n",
              "      gap: 12px;\n",
              "    }\n",
              "\n",
              "    .colab-df-convert {\n",
              "      background-color: #E8F0FE;\n",
              "      border: none;\n",
              "      border-radius: 50%;\n",
              "      cursor: pointer;\n",
              "      display: none;\n",
              "      fill: #1967D2;\n",
              "      height: 32px;\n",
              "      padding: 0 0 0 0;\n",
              "      width: 32px;\n",
              "    }\n",
              "\n",
              "    .colab-df-convert:hover {\n",
              "      background-color: #E2EBFA;\n",
              "      box-shadow: 0px 1px 2px rgba(60, 64, 67, 0.3), 0px 1px 3px 1px rgba(60, 64, 67, 0.15);\n",
              "      fill: #174EA6;\n",
              "    }\n",
              "\n",
              "    [theme=dark] .colab-df-convert {\n",
              "      background-color: #3B4455;\n",
              "      fill: #D2E3FC;\n",
              "    }\n",
              "\n",
              "    [theme=dark] .colab-df-convert:hover {\n",
              "      background-color: #434B5C;\n",
              "      box-shadow: 0px 1px 3px 1px rgba(0, 0, 0, 0.15);\n",
              "      filter: drop-shadow(0px 1px 2px rgba(0, 0, 0, 0.3));\n",
              "      fill: #FFFFFF;\n",
              "    }\n",
              "  </style>\n",
              "\n",
              "      <script>\n",
              "        const buttonEl =\n",
              "          document.querySelector('#df-89dc0413-820e-47cb-a271-a264c54f4676 button.colab-df-convert');\n",
              "        buttonEl.style.display =\n",
              "          google.colab.kernel.accessAllowed ? 'block' : 'none';\n",
              "\n",
              "        async function convertToInteractive(key) {\n",
              "          const element = document.querySelector('#df-89dc0413-820e-47cb-a271-a264c54f4676');\n",
              "          const dataTable =\n",
              "            await google.colab.kernel.invokeFunction('convertToInteractive',\n",
              "                                                     [key], {});\n",
              "          if (!dataTable) return;\n",
              "\n",
              "          const docLinkHtml = 'Like what you see? Visit the ' +\n",
              "            '<a target=\"_blank\" href=https://colab.research.google.com/notebooks/data_table.ipynb>data table notebook</a>'\n",
              "            + ' to learn more about interactive tables.';\n",
              "          element.innerHTML = '';\n",
              "          dataTable['output_type'] = 'display_data';\n",
              "          await google.colab.output.renderOutput(dataTable, element);\n",
              "          const docLink = document.createElement('div');\n",
              "          docLink.innerHTML = docLinkHtml;\n",
              "          element.appendChild(docLink);\n",
              "        }\n",
              "      </script>\n",
              "    </div>\n",
              "  </div>\n",
              "  "
            ],
            "text/plain": [
              "                         Date Time  MMSI Number  ...  Timestamp  Channel of AIS\n",
              "0       2019-10-01 03:57:29.643849    566241000  ...         29               A\n",
              "1       2019-10-01 04:09:28.716233    566241000  ...         29               A\n",
              "2       2019-10-01 04:15:28.319625    566241000  ...         29               A\n",
              "3       2019-10-01 04:34:07.182831    566241000  ...          9               A\n",
              "4       2019-10-01 04:36:07.206859    566241000  ...          9               A\n",
              "...                            ...          ...  ...        ...             ...\n",
              "968771  2019-10-02 23:17:00.199384    248437000  ...          0               A\n",
              "968772  2019-10-03 01:34:59.761764    248437000  ...          0               A\n",
              "968773  2019-10-03 04:10:59.369565    248437000  ...         59               A\n",
              "968774  2019-10-03 04:52:58.641309    248437000  ...         59               A\n",
              "968775  2019-10-03 05:46:58.610344    248437000  ...         59               A\n",
              "\n",
              "[932568 rows x 10 columns]"
            ]
          },
          "metadata": {},
          "execution_count": 11
        }
      ]
    },
    {
      "cell_type": "code",
      "source": [
        "all_data.info()\n",
        "all_data.shape"
      ],
      "metadata": {
        "colab": {
          "base_uri": "https://localhost:8080/"
        },
        "id": "xWWnVIgUTwYO",
        "outputId": "1cd5ab2c-cc4d-439c-a0fd-08d516d30a16"
      },
      "execution_count": null,
      "outputs": [
        {
          "output_type": "stream",
          "name": "stdout",
          "text": [
            "<class 'pandas.core.frame.DataFrame'>\n",
            "Int64Index: 932568 entries, 0 to 968775\n",
            "Data columns (total 10 columns):\n",
            " #   Column              Non-Null Count   Dtype  \n",
            "---  ------              --------------   -----  \n",
            " 0   Date Time           932568 non-null  object \n",
            " 1   MMSI Number         932568 non-null  int64  \n",
            " 2   Rate of Turn        932568 non-null  int64  \n",
            " 3   Speed Over Ground   932568 non-null  float64\n",
            " 4   Longitude           932568 non-null  float64\n",
            " 5   Latitude            932568 non-null  float64\n",
            " 6   Course Over Ground  932568 non-null  float64\n",
            " 7   Heading Angle       932568 non-null  int64  \n",
            " 8   Timestamp           932568 non-null  int64  \n",
            " 9   Channel of AIS      932568 non-null  object \n",
            "dtypes: float64(4), int64(4), object(2)\n",
            "memory usage: 78.3+ MB\n"
          ]
        },
        {
          "output_type": "execute_result",
          "data": {
            "text/plain": [
              "(932568, 10)"
            ]
          },
          "metadata": {},
          "execution_count": 12
        }
      ]
    },
    {
      "cell_type": "code",
      "source": [
        "#filter speed (in knots)\n",
        "all_data=all_data[(all_data['Speed Over Ground']<=216)]\n",
        "all_data"
      ],
      "metadata": {
        "colab": {
          "base_uri": "https://localhost:8080/",
          "height": 468
        },
        "id": "REPU0ciG-UYr",
        "outputId": "5409b1e6-6b56-4e63-b7ca-2937bacbc7ff"
      },
      "execution_count": null,
      "outputs": [
        {
          "output_type": "execute_result",
          "data": {
            "text/html": [
              "\n",
              "  <div id=\"df-94e95dc7-d229-465f-b2ba-9601904138f9\">\n",
              "    <div class=\"colab-df-container\">\n",
              "      <div>\n",
              "<style scoped>\n",
              "    .dataframe tbody tr th:only-of-type {\n",
              "        vertical-align: middle;\n",
              "    }\n",
              "\n",
              "    .dataframe tbody tr th {\n",
              "        vertical-align: top;\n",
              "    }\n",
              "\n",
              "    .dataframe thead th {\n",
              "        text-align: right;\n",
              "    }\n",
              "</style>\n",
              "<table border=\"1\" class=\"dataframe\">\n",
              "  <thead>\n",
              "    <tr style=\"text-align: right;\">\n",
              "      <th></th>\n",
              "      <th>Date Time</th>\n",
              "      <th>MMSI Number</th>\n",
              "      <th>Rate of Turn</th>\n",
              "      <th>Speed Over Ground</th>\n",
              "      <th>Longitude</th>\n",
              "      <th>Latitude</th>\n",
              "      <th>Course Over Ground</th>\n",
              "      <th>Heading Angle</th>\n",
              "      <th>Timestamp</th>\n",
              "      <th>Channel of AIS</th>\n",
              "    </tr>\n",
              "  </thead>\n",
              "  <tbody>\n",
              "    <tr>\n",
              "      <th>0</th>\n",
              "      <td>2019-10-01 03:57:29.643849</td>\n",
              "      <td>566241000</td>\n",
              "      <td>0</td>\n",
              "      <td>0.0</td>\n",
              "      <td>103.782597</td>\n",
              "      <td>1.274448</td>\n",
              "      <td>18.8</td>\n",
              "      <td>126</td>\n",
              "      <td>29</td>\n",
              "      <td>A</td>\n",
              "    </tr>\n",
              "    <tr>\n",
              "      <th>1</th>\n",
              "      <td>2019-10-01 04:09:28.716233</td>\n",
              "      <td>566241000</td>\n",
              "      <td>0</td>\n",
              "      <td>0.0</td>\n",
              "      <td>103.782650</td>\n",
              "      <td>1.274480</td>\n",
              "      <td>18.8</td>\n",
              "      <td>126</td>\n",
              "      <td>29</td>\n",
              "      <td>A</td>\n",
              "    </tr>\n",
              "    <tr>\n",
              "      <th>2</th>\n",
              "      <td>2019-10-01 04:15:28.319625</td>\n",
              "      <td>566241000</td>\n",
              "      <td>0</td>\n",
              "      <td>0.0</td>\n",
              "      <td>103.782645</td>\n",
              "      <td>1.274455</td>\n",
              "      <td>18.8</td>\n",
              "      <td>126</td>\n",
              "      <td>29</td>\n",
              "      <td>A</td>\n",
              "    </tr>\n",
              "    <tr>\n",
              "      <th>3</th>\n",
              "      <td>2019-10-01 04:34:07.182831</td>\n",
              "      <td>566241000</td>\n",
              "      <td>0</td>\n",
              "      <td>0.0</td>\n",
              "      <td>103.782647</td>\n",
              "      <td>1.274438</td>\n",
              "      <td>18.8</td>\n",
              "      <td>126</td>\n",
              "      <td>9</td>\n",
              "      <td>A</td>\n",
              "    </tr>\n",
              "    <tr>\n",
              "      <th>4</th>\n",
              "      <td>2019-10-01 04:36:07.206859</td>\n",
              "      <td>566241000</td>\n",
              "      <td>0</td>\n",
              "      <td>0.0</td>\n",
              "      <td>103.782602</td>\n",
              "      <td>1.274432</td>\n",
              "      <td>18.8</td>\n",
              "      <td>126</td>\n",
              "      <td>9</td>\n",
              "      <td>A</td>\n",
              "    </tr>\n",
              "    <tr>\n",
              "      <th>...</th>\n",
              "      <td>...</td>\n",
              "      <td>...</td>\n",
              "      <td>...</td>\n",
              "      <td>...</td>\n",
              "      <td>...</td>\n",
              "      <td>...</td>\n",
              "      <td>...</td>\n",
              "      <td>...</td>\n",
              "      <td>...</td>\n",
              "      <td>...</td>\n",
              "    </tr>\n",
              "    <tr>\n",
              "      <th>968771</th>\n",
              "      <td>2019-10-02 23:17:00.199384</td>\n",
              "      <td>248437000</td>\n",
              "      <td>251</td>\n",
              "      <td>0.0</td>\n",
              "      <td>103.872045</td>\n",
              "      <td>1.267475</td>\n",
              "      <td>96.3</td>\n",
              "      <td>29</td>\n",
              "      <td>0</td>\n",
              "      <td>A</td>\n",
              "    </tr>\n",
              "    <tr>\n",
              "      <th>968772</th>\n",
              "      <td>2019-10-03 01:34:59.761764</td>\n",
              "      <td>248437000</td>\n",
              "      <td>5</td>\n",
              "      <td>0.0</td>\n",
              "      <td>103.872008</td>\n",
              "      <td>1.267585</td>\n",
              "      <td>290.6</td>\n",
              "      <td>25</td>\n",
              "      <td>0</td>\n",
              "      <td>A</td>\n",
              "    </tr>\n",
              "    <tr>\n",
              "      <th>968773</th>\n",
              "      <td>2019-10-03 04:10:59.369565</td>\n",
              "      <td>248437000</td>\n",
              "      <td>251</td>\n",
              "      <td>0.0</td>\n",
              "      <td>103.872055</td>\n",
              "      <td>1.267527</td>\n",
              "      <td>340.1</td>\n",
              "      <td>31</td>\n",
              "      <td>59</td>\n",
              "      <td>A</td>\n",
              "    </tr>\n",
              "    <tr>\n",
              "      <th>968774</th>\n",
              "      <td>2019-10-03 04:52:58.641309</td>\n",
              "      <td>248437000</td>\n",
              "      <td>251</td>\n",
              "      <td>0.0</td>\n",
              "      <td>103.872040</td>\n",
              "      <td>1.267527</td>\n",
              "      <td>302.4</td>\n",
              "      <td>29</td>\n",
              "      <td>59</td>\n",
              "      <td>A</td>\n",
              "    </tr>\n",
              "    <tr>\n",
              "      <th>968775</th>\n",
              "      <td>2019-10-03 05:46:58.610344</td>\n",
              "      <td>248437000</td>\n",
              "      <td>0</td>\n",
              "      <td>0.0</td>\n",
              "      <td>103.872013</td>\n",
              "      <td>1.267545</td>\n",
              "      <td>96.5</td>\n",
              "      <td>40</td>\n",
              "      <td>59</td>\n",
              "      <td>A</td>\n",
              "    </tr>\n",
              "  </tbody>\n",
              "</table>\n",
              "<p>932568 rows × 10 columns</p>\n",
              "</div>\n",
              "      <button class=\"colab-df-convert\" onclick=\"convertToInteractive('df-94e95dc7-d229-465f-b2ba-9601904138f9')\"\n",
              "              title=\"Convert this dataframe to an interactive table.\"\n",
              "              style=\"display:none;\">\n",
              "        \n",
              "  <svg xmlns=\"http://www.w3.org/2000/svg\" height=\"24px\"viewBox=\"0 0 24 24\"\n",
              "       width=\"24px\">\n",
              "    <path d=\"M0 0h24v24H0V0z\" fill=\"none\"/>\n",
              "    <path d=\"M18.56 5.44l.94 2.06.94-2.06 2.06-.94-2.06-.94-.94-2.06-.94 2.06-2.06.94zm-11 1L8.5 8.5l.94-2.06 2.06-.94-2.06-.94L8.5 2.5l-.94 2.06-2.06.94zm10 10l.94 2.06.94-2.06 2.06-.94-2.06-.94-.94-2.06-.94 2.06-2.06.94z\"/><path d=\"M17.41 7.96l-1.37-1.37c-.4-.4-.92-.59-1.43-.59-.52 0-1.04.2-1.43.59L10.3 9.45l-7.72 7.72c-.78.78-.78 2.05 0 2.83L4 21.41c.39.39.9.59 1.41.59.51 0 1.02-.2 1.41-.59l7.78-7.78 2.81-2.81c.8-.78.8-2.07 0-2.86zM5.41 20L4 18.59l7.72-7.72 1.47 1.35L5.41 20z\"/>\n",
              "  </svg>\n",
              "      </button>\n",
              "      \n",
              "  <style>\n",
              "    .colab-df-container {\n",
              "      display:flex;\n",
              "      flex-wrap:wrap;\n",
              "      gap: 12px;\n",
              "    }\n",
              "\n",
              "    .colab-df-convert {\n",
              "      background-color: #E8F0FE;\n",
              "      border: none;\n",
              "      border-radius: 50%;\n",
              "      cursor: pointer;\n",
              "      display: none;\n",
              "      fill: #1967D2;\n",
              "      height: 32px;\n",
              "      padding: 0 0 0 0;\n",
              "      width: 32px;\n",
              "    }\n",
              "\n",
              "    .colab-df-convert:hover {\n",
              "      background-color: #E2EBFA;\n",
              "      box-shadow: 0px 1px 2px rgba(60, 64, 67, 0.3), 0px 1px 3px 1px rgba(60, 64, 67, 0.15);\n",
              "      fill: #174EA6;\n",
              "    }\n",
              "\n",
              "    [theme=dark] .colab-df-convert {\n",
              "      background-color: #3B4455;\n",
              "      fill: #D2E3FC;\n",
              "    }\n",
              "\n",
              "    [theme=dark] .colab-df-convert:hover {\n",
              "      background-color: #434B5C;\n",
              "      box-shadow: 0px 1px 3px 1px rgba(0, 0, 0, 0.15);\n",
              "      filter: drop-shadow(0px 1px 2px rgba(0, 0, 0, 0.3));\n",
              "      fill: #FFFFFF;\n",
              "    }\n",
              "  </style>\n",
              "\n",
              "      <script>\n",
              "        const buttonEl =\n",
              "          document.querySelector('#df-94e95dc7-d229-465f-b2ba-9601904138f9 button.colab-df-convert');\n",
              "        buttonEl.style.display =\n",
              "          google.colab.kernel.accessAllowed ? 'block' : 'none';\n",
              "\n",
              "        async function convertToInteractive(key) {\n",
              "          const element = document.querySelector('#df-94e95dc7-d229-465f-b2ba-9601904138f9');\n",
              "          const dataTable =\n",
              "            await google.colab.kernel.invokeFunction('convertToInteractive',\n",
              "                                                     [key], {});\n",
              "          if (!dataTable) return;\n",
              "\n",
              "          const docLinkHtml = 'Like what you see? Visit the ' +\n",
              "            '<a target=\"_blank\" href=https://colab.research.google.com/notebooks/data_table.ipynb>data table notebook</a>'\n",
              "            + ' to learn more about interactive tables.';\n",
              "          element.innerHTML = '';\n",
              "          dataTable['output_type'] = 'display_data';\n",
              "          await google.colab.output.renderOutput(dataTable, element);\n",
              "          const docLink = document.createElement('div');\n",
              "          docLink.innerHTML = docLinkHtml;\n",
              "          element.appendChild(docLink);\n",
              "        }\n",
              "      </script>\n",
              "    </div>\n",
              "  </div>\n",
              "  "
            ],
            "text/plain": [
              "                         Date Time  MMSI Number  ...  Timestamp  Channel of AIS\n",
              "0       2019-10-01 03:57:29.643849    566241000  ...         29               A\n",
              "1       2019-10-01 04:09:28.716233    566241000  ...         29               A\n",
              "2       2019-10-01 04:15:28.319625    566241000  ...         29               A\n",
              "3       2019-10-01 04:34:07.182831    566241000  ...          9               A\n",
              "4       2019-10-01 04:36:07.206859    566241000  ...          9               A\n",
              "...                            ...          ...  ...        ...             ...\n",
              "968771  2019-10-02 23:17:00.199384    248437000  ...          0               A\n",
              "968772  2019-10-03 01:34:59.761764    248437000  ...          0               A\n",
              "968773  2019-10-03 04:10:59.369565    248437000  ...         59               A\n",
              "968774  2019-10-03 04:52:58.641309    248437000  ...         59               A\n",
              "968775  2019-10-03 05:46:58.610344    248437000  ...         59               A\n",
              "\n",
              "[932568 rows x 10 columns]"
            ]
          },
          "metadata": {},
          "execution_count": 13
        }
      ]
    },
    {
      "cell_type": "code",
      "source": [
        "all_data.to_csv(\"AISdata.csv\")\n",
        "files.download(\"AISdata.csv\")  \n",
        "all_data"
      ],
      "metadata": {
        "colab": {
          "base_uri": "https://localhost:8080/",
          "height": 468
        },
        "id": "KdCL6eB1t_2G",
        "outputId": "1b4749af-ae5f-4bce-9a01-ed996575e12c"
      },
      "execution_count": null,
      "outputs": [
        {
          "output_type": "display_data",
          "data": {
            "application/javascript": [
              "\n",
              "    async function download(id, filename, size) {\n",
              "      if (!google.colab.kernel.accessAllowed) {\n",
              "        return;\n",
              "      }\n",
              "      const div = document.createElement('div');\n",
              "      const label = document.createElement('label');\n",
              "      label.textContent = `Downloading \"${filename}\": `;\n",
              "      div.appendChild(label);\n",
              "      const progress = document.createElement('progress');\n",
              "      progress.max = size;\n",
              "      div.appendChild(progress);\n",
              "      document.body.appendChild(div);\n",
              "\n",
              "      const buffers = [];\n",
              "      let downloaded = 0;\n",
              "\n",
              "      const channel = await google.colab.kernel.comms.open(id);\n",
              "      // Send a message to notify the kernel that we're ready.\n",
              "      channel.send({})\n",
              "\n",
              "      for await (const message of channel.messages) {\n",
              "        // Send a message to notify the kernel that we're ready.\n",
              "        channel.send({})\n",
              "        if (message.buffers) {\n",
              "          for (const buffer of message.buffers) {\n",
              "            buffers.push(buffer);\n",
              "            downloaded += buffer.byteLength;\n",
              "            progress.value = downloaded;\n",
              "          }\n",
              "        }\n",
              "      }\n",
              "      const blob = new Blob(buffers, {type: 'application/binary'});\n",
              "      const a = document.createElement('a');\n",
              "      a.href = window.URL.createObjectURL(blob);\n",
              "      a.download = filename;\n",
              "      div.appendChild(a);\n",
              "      a.click();\n",
              "      div.remove();\n",
              "    }\n",
              "  "
            ],
            "text/plain": [
              "<IPython.core.display.Javascript object>"
            ]
          },
          "metadata": {}
        },
        {
          "output_type": "display_data",
          "data": {
            "application/javascript": [
              "download(\"download_bc3e008e-0ec4-4bf6-9d2c-f37fd1e0789d\", \"AISdata.csv\", 89280992)"
            ],
            "text/plain": [
              "<IPython.core.display.Javascript object>"
            ]
          },
          "metadata": {}
        },
        {
          "output_type": "execute_result",
          "data": {
            "text/html": [
              "\n",
              "  <div id=\"df-288ee097-77e1-44b6-a5eb-92b7cc6a8a22\">\n",
              "    <div class=\"colab-df-container\">\n",
              "      <div>\n",
              "<style scoped>\n",
              "    .dataframe tbody tr th:only-of-type {\n",
              "        vertical-align: middle;\n",
              "    }\n",
              "\n",
              "    .dataframe tbody tr th {\n",
              "        vertical-align: top;\n",
              "    }\n",
              "\n",
              "    .dataframe thead th {\n",
              "        text-align: right;\n",
              "    }\n",
              "</style>\n",
              "<table border=\"1\" class=\"dataframe\">\n",
              "  <thead>\n",
              "    <tr style=\"text-align: right;\">\n",
              "      <th></th>\n",
              "      <th>Date Time</th>\n",
              "      <th>MMSI Number</th>\n",
              "      <th>Rate of Turn</th>\n",
              "      <th>Speed Over Ground</th>\n",
              "      <th>Longitude</th>\n",
              "      <th>Latitude</th>\n",
              "      <th>Course Over Ground</th>\n",
              "      <th>Heading Angle</th>\n",
              "      <th>Timestamp</th>\n",
              "      <th>Channel of AIS</th>\n",
              "    </tr>\n",
              "  </thead>\n",
              "  <tbody>\n",
              "    <tr>\n",
              "      <th>0</th>\n",
              "      <td>2019-10-01 03:57:29.643849</td>\n",
              "      <td>566241000</td>\n",
              "      <td>0</td>\n",
              "      <td>0.0</td>\n",
              "      <td>103.782597</td>\n",
              "      <td>1.274448</td>\n",
              "      <td>18.8</td>\n",
              "      <td>126</td>\n",
              "      <td>29</td>\n",
              "      <td>A</td>\n",
              "    </tr>\n",
              "    <tr>\n",
              "      <th>1</th>\n",
              "      <td>2019-10-01 04:09:28.716233</td>\n",
              "      <td>566241000</td>\n",
              "      <td>0</td>\n",
              "      <td>0.0</td>\n",
              "      <td>103.782650</td>\n",
              "      <td>1.274480</td>\n",
              "      <td>18.8</td>\n",
              "      <td>126</td>\n",
              "      <td>29</td>\n",
              "      <td>A</td>\n",
              "    </tr>\n",
              "    <tr>\n",
              "      <th>2</th>\n",
              "      <td>2019-10-01 04:15:28.319625</td>\n",
              "      <td>566241000</td>\n",
              "      <td>0</td>\n",
              "      <td>0.0</td>\n",
              "      <td>103.782645</td>\n",
              "      <td>1.274455</td>\n",
              "      <td>18.8</td>\n",
              "      <td>126</td>\n",
              "      <td>29</td>\n",
              "      <td>A</td>\n",
              "    </tr>\n",
              "    <tr>\n",
              "      <th>3</th>\n",
              "      <td>2019-10-01 04:34:07.182831</td>\n",
              "      <td>566241000</td>\n",
              "      <td>0</td>\n",
              "      <td>0.0</td>\n",
              "      <td>103.782647</td>\n",
              "      <td>1.274438</td>\n",
              "      <td>18.8</td>\n",
              "      <td>126</td>\n",
              "      <td>9</td>\n",
              "      <td>A</td>\n",
              "    </tr>\n",
              "    <tr>\n",
              "      <th>4</th>\n",
              "      <td>2019-10-01 04:36:07.206859</td>\n",
              "      <td>566241000</td>\n",
              "      <td>0</td>\n",
              "      <td>0.0</td>\n",
              "      <td>103.782602</td>\n",
              "      <td>1.274432</td>\n",
              "      <td>18.8</td>\n",
              "      <td>126</td>\n",
              "      <td>9</td>\n",
              "      <td>A</td>\n",
              "    </tr>\n",
              "    <tr>\n",
              "      <th>...</th>\n",
              "      <td>...</td>\n",
              "      <td>...</td>\n",
              "      <td>...</td>\n",
              "      <td>...</td>\n",
              "      <td>...</td>\n",
              "      <td>...</td>\n",
              "      <td>...</td>\n",
              "      <td>...</td>\n",
              "      <td>...</td>\n",
              "      <td>...</td>\n",
              "    </tr>\n",
              "    <tr>\n",
              "      <th>968771</th>\n",
              "      <td>2019-10-02 23:17:00.199384</td>\n",
              "      <td>248437000</td>\n",
              "      <td>251</td>\n",
              "      <td>0.0</td>\n",
              "      <td>103.872045</td>\n",
              "      <td>1.267475</td>\n",
              "      <td>96.3</td>\n",
              "      <td>29</td>\n",
              "      <td>0</td>\n",
              "      <td>A</td>\n",
              "    </tr>\n",
              "    <tr>\n",
              "      <th>968772</th>\n",
              "      <td>2019-10-03 01:34:59.761764</td>\n",
              "      <td>248437000</td>\n",
              "      <td>5</td>\n",
              "      <td>0.0</td>\n",
              "      <td>103.872008</td>\n",
              "      <td>1.267585</td>\n",
              "      <td>290.6</td>\n",
              "      <td>25</td>\n",
              "      <td>0</td>\n",
              "      <td>A</td>\n",
              "    </tr>\n",
              "    <tr>\n",
              "      <th>968773</th>\n",
              "      <td>2019-10-03 04:10:59.369565</td>\n",
              "      <td>248437000</td>\n",
              "      <td>251</td>\n",
              "      <td>0.0</td>\n",
              "      <td>103.872055</td>\n",
              "      <td>1.267527</td>\n",
              "      <td>340.1</td>\n",
              "      <td>31</td>\n",
              "      <td>59</td>\n",
              "      <td>A</td>\n",
              "    </tr>\n",
              "    <tr>\n",
              "      <th>968774</th>\n",
              "      <td>2019-10-03 04:52:58.641309</td>\n",
              "      <td>248437000</td>\n",
              "      <td>251</td>\n",
              "      <td>0.0</td>\n",
              "      <td>103.872040</td>\n",
              "      <td>1.267527</td>\n",
              "      <td>302.4</td>\n",
              "      <td>29</td>\n",
              "      <td>59</td>\n",
              "      <td>A</td>\n",
              "    </tr>\n",
              "    <tr>\n",
              "      <th>968775</th>\n",
              "      <td>2019-10-03 05:46:58.610344</td>\n",
              "      <td>248437000</td>\n",
              "      <td>0</td>\n",
              "      <td>0.0</td>\n",
              "      <td>103.872013</td>\n",
              "      <td>1.267545</td>\n",
              "      <td>96.5</td>\n",
              "      <td>40</td>\n",
              "      <td>59</td>\n",
              "      <td>A</td>\n",
              "    </tr>\n",
              "  </tbody>\n",
              "</table>\n",
              "<p>932568 rows × 10 columns</p>\n",
              "</div>\n",
              "      <button class=\"colab-df-convert\" onclick=\"convertToInteractive('df-288ee097-77e1-44b6-a5eb-92b7cc6a8a22')\"\n",
              "              title=\"Convert this dataframe to an interactive table.\"\n",
              "              style=\"display:none;\">\n",
              "        \n",
              "  <svg xmlns=\"http://www.w3.org/2000/svg\" height=\"24px\"viewBox=\"0 0 24 24\"\n",
              "       width=\"24px\">\n",
              "    <path d=\"M0 0h24v24H0V0z\" fill=\"none\"/>\n",
              "    <path d=\"M18.56 5.44l.94 2.06.94-2.06 2.06-.94-2.06-.94-.94-2.06-.94 2.06-2.06.94zm-11 1L8.5 8.5l.94-2.06 2.06-.94-2.06-.94L8.5 2.5l-.94 2.06-2.06.94zm10 10l.94 2.06.94-2.06 2.06-.94-2.06-.94-.94-2.06-.94 2.06-2.06.94z\"/><path d=\"M17.41 7.96l-1.37-1.37c-.4-.4-.92-.59-1.43-.59-.52 0-1.04.2-1.43.59L10.3 9.45l-7.72 7.72c-.78.78-.78 2.05 0 2.83L4 21.41c.39.39.9.59 1.41.59.51 0 1.02-.2 1.41-.59l7.78-7.78 2.81-2.81c.8-.78.8-2.07 0-2.86zM5.41 20L4 18.59l7.72-7.72 1.47 1.35L5.41 20z\"/>\n",
              "  </svg>\n",
              "      </button>\n",
              "      \n",
              "  <style>\n",
              "    .colab-df-container {\n",
              "      display:flex;\n",
              "      flex-wrap:wrap;\n",
              "      gap: 12px;\n",
              "    }\n",
              "\n",
              "    .colab-df-convert {\n",
              "      background-color: #E8F0FE;\n",
              "      border: none;\n",
              "      border-radius: 50%;\n",
              "      cursor: pointer;\n",
              "      display: none;\n",
              "      fill: #1967D2;\n",
              "      height: 32px;\n",
              "      padding: 0 0 0 0;\n",
              "      width: 32px;\n",
              "    }\n",
              "\n",
              "    .colab-df-convert:hover {\n",
              "      background-color: #E2EBFA;\n",
              "      box-shadow: 0px 1px 2px rgba(60, 64, 67, 0.3), 0px 1px 3px 1px rgba(60, 64, 67, 0.15);\n",
              "      fill: #174EA6;\n",
              "    }\n",
              "\n",
              "    [theme=dark] .colab-df-convert {\n",
              "      background-color: #3B4455;\n",
              "      fill: #D2E3FC;\n",
              "    }\n",
              "\n",
              "    [theme=dark] .colab-df-convert:hover {\n",
              "      background-color: #434B5C;\n",
              "      box-shadow: 0px 1px 3px 1px rgba(0, 0, 0, 0.15);\n",
              "      filter: drop-shadow(0px 1px 2px rgba(0, 0, 0, 0.3));\n",
              "      fill: #FFFFFF;\n",
              "    }\n",
              "  </style>\n",
              "\n",
              "      <script>\n",
              "        const buttonEl =\n",
              "          document.querySelector('#df-288ee097-77e1-44b6-a5eb-92b7cc6a8a22 button.colab-df-convert');\n",
              "        buttonEl.style.display =\n",
              "          google.colab.kernel.accessAllowed ? 'block' : 'none';\n",
              "\n",
              "        async function convertToInteractive(key) {\n",
              "          const element = document.querySelector('#df-288ee097-77e1-44b6-a5eb-92b7cc6a8a22');\n",
              "          const dataTable =\n",
              "            await google.colab.kernel.invokeFunction('convertToInteractive',\n",
              "                                                     [key], {});\n",
              "          if (!dataTable) return;\n",
              "\n",
              "          const docLinkHtml = 'Like what you see? Visit the ' +\n",
              "            '<a target=\"_blank\" href=https://colab.research.google.com/notebooks/data_table.ipynb>data table notebook</a>'\n",
              "            + ' to learn more about interactive tables.';\n",
              "          element.innerHTML = '';\n",
              "          dataTable['output_type'] = 'display_data';\n",
              "          await google.colab.output.renderOutput(dataTable, element);\n",
              "          const docLink = document.createElement('div');\n",
              "          docLink.innerHTML = docLinkHtml;\n",
              "          element.appendChild(docLink);\n",
              "        }\n",
              "      </script>\n",
              "    </div>\n",
              "  </div>\n",
              "  "
            ],
            "text/plain": [
              "                         Date Time  MMSI Number  ...  Timestamp  Channel of AIS\n",
              "0       2019-10-01 03:57:29.643849    566241000  ...         29               A\n",
              "1       2019-10-01 04:09:28.716233    566241000  ...         29               A\n",
              "2       2019-10-01 04:15:28.319625    566241000  ...         29               A\n",
              "3       2019-10-01 04:34:07.182831    566241000  ...          9               A\n",
              "4       2019-10-01 04:36:07.206859    566241000  ...          9               A\n",
              "...                            ...          ...  ...        ...             ...\n",
              "968771  2019-10-02 23:17:00.199384    248437000  ...          0               A\n",
              "968772  2019-10-03 01:34:59.761764    248437000  ...          0               A\n",
              "968773  2019-10-03 04:10:59.369565    248437000  ...         59               A\n",
              "968774  2019-10-03 04:52:58.641309    248437000  ...         59               A\n",
              "968775  2019-10-03 05:46:58.610344    248437000  ...         59               A\n",
              "\n",
              "[932568 rows x 10 columns]"
            ]
          },
          "metadata": {},
          "execution_count": 14
        }
      ]
    },
    {
      "cell_type": "code",
      "source": [
        "# check whether missing values in these columns\n",
        "print(all_data.isnull().sum())"
      ],
      "metadata": {
        "id": "8QX1HjDpUak1",
        "colab": {
          "base_uri": "https://localhost:8080/"
        },
        "outputId": "373e899f-2f3f-40ae-9813-2e7693b7efff"
      },
      "execution_count": null,
      "outputs": [
        {
          "output_type": "stream",
          "name": "stdout",
          "text": [
            "Date Time             0\n",
            "MMSI Number           0\n",
            "Rate of Turn          0\n",
            "Speed Over Ground     0\n",
            "Longitude             0\n",
            "Latitude              0\n",
            "Course Over Ground    0\n",
            "Heading Angle         0\n",
            "Timestamp             0\n",
            "Channel of AIS        0\n",
            "dtype: int64\n"
          ]
        }
      ]
    },
    {
      "cell_type": "code",
      "source": [
        "all_data=all_data.dropna()    # Dropping missing values if exist\n",
        "all_data.count()"
      ],
      "metadata": {
        "colab": {
          "base_uri": "https://localhost:8080/"
        },
        "id": "GhjVHSqqquP5",
        "outputId": "966bf09a-066e-4526-91a2-1230e2496220"
      },
      "execution_count": null,
      "outputs": [
        {
          "output_type": "execute_result",
          "data": {
            "text/plain": [
              "Date Time             932568\n",
              "MMSI Number           932568\n",
              "Rate of Turn          932568\n",
              "Speed Over Ground     932568\n",
              "Longitude             932568\n",
              "Latitude              932568\n",
              "Course Over Ground    932568\n",
              "Heading Angle         932568\n",
              "Timestamp             932568\n",
              "Channel of AIS        932568\n",
              "dtype: int64"
            ]
          },
          "metadata": {},
          "execution_count": 16
        }
      ]
    },
    {
      "cell_type": "code",
      "source": [
        "all_data.describe()"
      ],
      "metadata": {
        "colab": {
          "base_uri": "https://localhost:8080/",
          "height": 300
        },
        "id": "9VlHQH8uBqd-",
        "outputId": "a80b4ef9-6229-470b-fa23-7ef405c28724"
      },
      "execution_count": null,
      "outputs": [
        {
          "output_type": "execute_result",
          "data": {
            "text/html": [
              "\n",
              "  <div id=\"df-8fd22971-8a36-4e69-b92f-8c791db621c2\">\n",
              "    <div class=\"colab-df-container\">\n",
              "      <div>\n",
              "<style scoped>\n",
              "    .dataframe tbody tr th:only-of-type {\n",
              "        vertical-align: middle;\n",
              "    }\n",
              "\n",
              "    .dataframe tbody tr th {\n",
              "        vertical-align: top;\n",
              "    }\n",
              "\n",
              "    .dataframe thead th {\n",
              "        text-align: right;\n",
              "    }\n",
              "</style>\n",
              "<table border=\"1\" class=\"dataframe\">\n",
              "  <thead>\n",
              "    <tr style=\"text-align: right;\">\n",
              "      <th></th>\n",
              "      <th>MMSI Number</th>\n",
              "      <th>Rate of Turn</th>\n",
              "      <th>Speed Over Ground</th>\n",
              "      <th>Longitude</th>\n",
              "      <th>Latitude</th>\n",
              "      <th>Course Over Ground</th>\n",
              "      <th>Heading Angle</th>\n",
              "      <th>Timestamp</th>\n",
              "    </tr>\n",
              "  </thead>\n",
              "  <tbody>\n",
              "    <tr>\n",
              "      <th>count</th>\n",
              "      <td>9.325680e+05</td>\n",
              "      <td>932568.000000</td>\n",
              "      <td>932568.000000</td>\n",
              "      <td>932568.000000</td>\n",
              "      <td>932568.000000</td>\n",
              "      <td>932568.000000</td>\n",
              "      <td>932568.000000</td>\n",
              "      <td>932568.000000</td>\n",
              "    </tr>\n",
              "    <tr>\n",
              "      <th>mean</th>\n",
              "      <td>5.175471e+08</td>\n",
              "      <td>60.774755</td>\n",
              "      <td>3.751550</td>\n",
              "      <td>103.696310</td>\n",
              "      <td>1.274181</td>\n",
              "      <td>201.128712</td>\n",
              "      <td>286.698587</td>\n",
              "      <td>31.435207</td>\n",
              "    </tr>\n",
              "    <tr>\n",
              "      <th>std</th>\n",
              "      <td>9.645587e+07</td>\n",
              "      <td>71.590645</td>\n",
              "      <td>7.723895</td>\n",
              "      <td>0.171912</td>\n",
              "      <td>0.069325</td>\n",
              "      <td>112.539917</td>\n",
              "      <td>171.890420</td>\n",
              "      <td>17.947043</td>\n",
              "    </tr>\n",
              "    <tr>\n",
              "      <th>min</th>\n",
              "      <td>2.000000e+08</td>\n",
              "      <td>-1.000000</td>\n",
              "      <td>0.000000</td>\n",
              "      <td>102.350725</td>\n",
              "      <td>1.135400</td>\n",
              "      <td>0.000000</td>\n",
              "      <td>0.000000</td>\n",
              "      <td>0.000000</td>\n",
              "    </tr>\n",
              "    <tr>\n",
              "      <th>25%</th>\n",
              "      <td>5.252003e+08</td>\n",
              "      <td>0.000000</td>\n",
              "      <td>0.000000</td>\n",
              "      <td>103.617845</td>\n",
              "      <td>1.227398</td>\n",
              "      <td>104.700000</td>\n",
              "      <td>128.000000</td>\n",
              "      <td>16.000000</td>\n",
              "    </tr>\n",
              "    <tr>\n",
              "      <th>50%</th>\n",
              "      <td>5.630292e+08</td>\n",
              "      <td>0.000000</td>\n",
              "      <td>0.100000</td>\n",
              "      <td>103.712135</td>\n",
              "      <td>1.273203</td>\n",
              "      <td>221.900000</td>\n",
              "      <td>270.000000</td>\n",
              "      <td>32.000000</td>\n",
              "    </tr>\n",
              "    <tr>\n",
              "      <th>75%</th>\n",
              "      <td>5.647500e+08</td>\n",
              "      <td>128.000000</td>\n",
              "      <td>6.300000</td>\n",
              "      <td>103.767090</td>\n",
              "      <td>1.304867</td>\n",
              "      <td>297.900000</td>\n",
              "      <td>511.000000</td>\n",
              "      <td>47.000000</td>\n",
              "    </tr>\n",
              "    <tr>\n",
              "      <th>max</th>\n",
              "      <td>7.777778e+08</td>\n",
              "      <td>255.000000</td>\n",
              "      <td>102.300000</td>\n",
              "      <td>104.368880</td>\n",
              "      <td>1.847172</td>\n",
              "      <td>360.000000</td>\n",
              "      <td>511.000000</td>\n",
              "      <td>63.000000</td>\n",
              "    </tr>\n",
              "  </tbody>\n",
              "</table>\n",
              "</div>\n",
              "      <button class=\"colab-df-convert\" onclick=\"convertToInteractive('df-8fd22971-8a36-4e69-b92f-8c791db621c2')\"\n",
              "              title=\"Convert this dataframe to an interactive table.\"\n",
              "              style=\"display:none;\">\n",
              "        \n",
              "  <svg xmlns=\"http://www.w3.org/2000/svg\" height=\"24px\"viewBox=\"0 0 24 24\"\n",
              "       width=\"24px\">\n",
              "    <path d=\"M0 0h24v24H0V0z\" fill=\"none\"/>\n",
              "    <path d=\"M18.56 5.44l.94 2.06.94-2.06 2.06-.94-2.06-.94-.94-2.06-.94 2.06-2.06.94zm-11 1L8.5 8.5l.94-2.06 2.06-.94-2.06-.94L8.5 2.5l-.94 2.06-2.06.94zm10 10l.94 2.06.94-2.06 2.06-.94-2.06-.94-.94-2.06-.94 2.06-2.06.94z\"/><path d=\"M17.41 7.96l-1.37-1.37c-.4-.4-.92-.59-1.43-.59-.52 0-1.04.2-1.43.59L10.3 9.45l-7.72 7.72c-.78.78-.78 2.05 0 2.83L4 21.41c.39.39.9.59 1.41.59.51 0 1.02-.2 1.41-.59l7.78-7.78 2.81-2.81c.8-.78.8-2.07 0-2.86zM5.41 20L4 18.59l7.72-7.72 1.47 1.35L5.41 20z\"/>\n",
              "  </svg>\n",
              "      </button>\n",
              "      \n",
              "  <style>\n",
              "    .colab-df-container {\n",
              "      display:flex;\n",
              "      flex-wrap:wrap;\n",
              "      gap: 12px;\n",
              "    }\n",
              "\n",
              "    .colab-df-convert {\n",
              "      background-color: #E8F0FE;\n",
              "      border: none;\n",
              "      border-radius: 50%;\n",
              "      cursor: pointer;\n",
              "      display: none;\n",
              "      fill: #1967D2;\n",
              "      height: 32px;\n",
              "      padding: 0 0 0 0;\n",
              "      width: 32px;\n",
              "    }\n",
              "\n",
              "    .colab-df-convert:hover {\n",
              "      background-color: #E2EBFA;\n",
              "      box-shadow: 0px 1px 2px rgba(60, 64, 67, 0.3), 0px 1px 3px 1px rgba(60, 64, 67, 0.15);\n",
              "      fill: #174EA6;\n",
              "    }\n",
              "\n",
              "    [theme=dark] .colab-df-convert {\n",
              "      background-color: #3B4455;\n",
              "      fill: #D2E3FC;\n",
              "    }\n",
              "\n",
              "    [theme=dark] .colab-df-convert:hover {\n",
              "      background-color: #434B5C;\n",
              "      box-shadow: 0px 1px 3px 1px rgba(0, 0, 0, 0.15);\n",
              "      filter: drop-shadow(0px 1px 2px rgba(0, 0, 0, 0.3));\n",
              "      fill: #FFFFFF;\n",
              "    }\n",
              "  </style>\n",
              "\n",
              "      <script>\n",
              "        const buttonEl =\n",
              "          document.querySelector('#df-8fd22971-8a36-4e69-b92f-8c791db621c2 button.colab-df-convert');\n",
              "        buttonEl.style.display =\n",
              "          google.colab.kernel.accessAllowed ? 'block' : 'none';\n",
              "\n",
              "        async function convertToInteractive(key) {\n",
              "          const element = document.querySelector('#df-8fd22971-8a36-4e69-b92f-8c791db621c2');\n",
              "          const dataTable =\n",
              "            await google.colab.kernel.invokeFunction('convertToInteractive',\n",
              "                                                     [key], {});\n",
              "          if (!dataTable) return;\n",
              "\n",
              "          const docLinkHtml = 'Like what you see? Visit the ' +\n",
              "            '<a target=\"_blank\" href=https://colab.research.google.com/notebooks/data_table.ipynb>data table notebook</a>'\n",
              "            + ' to learn more about interactive tables.';\n",
              "          element.innerHTML = '';\n",
              "          dataTable['output_type'] = 'display_data';\n",
              "          await google.colab.output.renderOutput(dataTable, element);\n",
              "          const docLink = document.createElement('div');\n",
              "          docLink.innerHTML = docLinkHtml;\n",
              "          element.appendChild(docLink);\n",
              "        }\n",
              "      </script>\n",
              "    </div>\n",
              "  </div>\n",
              "  "
            ],
            "text/plain": [
              "        MMSI Number   Rate of Turn  ...  Heading Angle      Timestamp\n",
              "count  9.325680e+05  932568.000000  ...  932568.000000  932568.000000\n",
              "mean   5.175471e+08      60.774755  ...     286.698587      31.435207\n",
              "std    9.645587e+07      71.590645  ...     171.890420      17.947043\n",
              "min    2.000000e+08      -1.000000  ...       0.000000       0.000000\n",
              "25%    5.252003e+08       0.000000  ...     128.000000      16.000000\n",
              "50%    5.630292e+08       0.000000  ...     270.000000      32.000000\n",
              "75%    5.647500e+08     128.000000  ...     511.000000      47.000000\n",
              "max    7.777778e+08     255.000000  ...     511.000000      63.000000\n",
              "\n",
              "[8 rows x 8 columns]"
            ]
          },
          "metadata": {},
          "execution_count": 17
        }
      ]
    },
    {
      "cell_type": "code",
      "source": [
        "#Rate of turn (+-127) [-128 = not available]\n",
        "# SOG (0-102.2) [102.3 = not available]\n",
        "# COG (0-3599) [3600 = not available]\n",
        "# Heading Angle (0-359) [511 = not available/default]\n",
        "# Timestamp (0-59) [60 = not available/default ; 62 = electronic position fixing system operates in estimated mode ; 61 = manual input mode ; 63 = inoperative positioning system ]"
      ],
      "metadata": {
        "id": "gfwLRqIHom4p"
      },
      "execution_count": null,
      "outputs": []
    },
    {
      "cell_type": "code",
      "source": [
        ""
      ],
      "metadata": {
        "id": "a7B_-Mf7rDdG"
      },
      "execution_count": null,
      "outputs": []
    },
    {
      "cell_type": "markdown",
      "source": [
        "Detect Outliers"
      ],
      "metadata": {
        "id": "avfcmMU5re3K"
      }
    },
    {
      "cell_type": "code",
      "source": [
        "import seaborn as sns                       #visualisation\n",
        "import matplotlib.pyplot as plt             #visualisation\n",
        "\n",
        "sns.boxplot(x=all_data['Speed Over Ground'])"
      ],
      "metadata": {
        "colab": {
          "base_uri": "https://localhost:8080/",
          "height": 296
        },
        "id": "tNNJJQ4dp66y",
        "outputId": "7932caaf-86ab-470d-94a3-d0cb365e9aa6"
      },
      "execution_count": null,
      "outputs": [
        {
          "output_type": "execute_result",
          "data": {
            "text/plain": [
              "<matplotlib.axes._subplots.AxesSubplot at 0x7f7cfada31d0>"
            ]
          },
          "metadata": {},
          "execution_count": 19
        },
        {
          "output_type": "display_data",
          "data": {
            "image/png": "[encoded data removed]",
            "text/plain": [
              "<Figure size 432x288 with 1 Axes>"
            ]
          },
          "metadata": {
            "needs_background": "light"
          }
        }
      ]
    },
    {
      "cell_type": "code",
      "source": [
        "all_data['Speed Over Ground'].describe()"
      ],
      "metadata": {
        "colab": {
          "base_uri": "https://localhost:8080/"
        },
        "id": "KKJ1YEP4d3VJ",
        "outputId": "4e00b901-ba1c-4b59-ae3f-3e614f263a46"
      },
      "execution_count": null,
      "outputs": [
        {
          "output_type": "execute_result",
          "data": {
            "text/plain": [
              "count    932568.000000\n",
              "mean          3.751550\n",
              "std           7.723895\n",
              "min           0.000000\n",
              "25%           0.000000\n",
              "50%           0.100000\n",
              "75%           6.300000\n",
              "max         102.300000\n",
              "Name: Speed Over Ground, dtype: float64"
            ]
          },
          "metadata": {},
          "execution_count": 20
        }
      ]
    },
    {
      "cell_type": "code",
      "source": [
        "sns.boxplot(x=all_data['Course Over Ground'])"
      ],
      "metadata": {
        "colab": {
          "base_uri": "https://localhost:8080/",
          "height": 296
        },
        "id": "vpe_EM9Wrxak",
        "outputId": "b2921f7b-a929-4db4-f2ff-8d1bb69bf856"
      },
      "execution_count": null,
      "outputs": [
        {
          "output_type": "execute_result",
          "data": {
            "text/plain": [
              "<matplotlib.axes._subplots.AxesSubplot at 0x7f7cface7f90>"
            ]
          },
          "metadata": {},
          "execution_count": 21
        },
        {
          "output_type": "display_data",
          "data": {
            "image/png": "[encoded data removed]",
            "text/plain": [
              "<Figure size 432x288 with 1 Axes>"
            ]
          },
          "metadata": {
            "needs_background": "light"
          }
        }
      ]
    },
    {
      "cell_type": "code",
      "source": [
        "all_data['Course Over Ground'].describe()"
      ],
      "metadata": {
        "colab": {
          "base_uri": "https://localhost:8080/"
        },
        "id": "kfIPnJEyd9uB",
        "outputId": "99ba9239-2532-430a-d5e2-4f0b41862aea"
      },
      "execution_count": null,
      "outputs": [
        {
          "output_type": "execute_result",
          "data": {
            "text/plain": [
              "count    932568.000000\n",
              "mean        201.128712\n",
              "std         112.539917\n",
              "min           0.000000\n",
              "25%         104.700000\n",
              "50%         221.900000\n",
              "75%         297.900000\n",
              "max         360.000000\n",
              "Name: Course Over Ground, dtype: float64"
            ]
          },
          "metadata": {},
          "execution_count": 22
        }
      ]
    },
    {
      "cell_type": "code",
      "source": [
        "sns.boxplot(x=all_data['Rate of Turn'])"
      ],
      "metadata": {
        "colab": {
          "base_uri": "https://localhost:8080/",
          "height": 296
        },
        "id": "BaDyWAQOrxqs",
        "outputId": "2b0ca25c-c3b4-4336-f9e4-5fc13b2df27d"
      },
      "execution_count": null,
      "outputs": [
        {
          "output_type": "execute_result",
          "data": {
            "text/plain": [
              "<matplotlib.axes._subplots.AxesSubplot at 0x7f7cfa81bc90>"
            ]
          },
          "metadata": {},
          "execution_count": 23
        },
        {
          "output_type": "display_data",
          "data": {
            "image/png": "[encoded data removed]",
            "text/plain": [
              "<Figure size 432x288 with 1 Axes>"
            ]
          },
          "metadata": {
            "needs_background": "light"
          }
        }
      ]
    },
    {
      "cell_type": "code",
      "source": [
        "all_data['Rate of Turn'].describe()"
      ],
      "metadata": {
        "colab": {
          "base_uri": "https://localhost:8080/"
        },
        "id": "xfzz3kR5eB6H",
        "outputId": "a458f7db-daec-40e8-8859-6687523f4b18"
      },
      "execution_count": null,
      "outputs": [
        {
          "output_type": "execute_result",
          "data": {
            "text/plain": [
              "count    932568.000000\n",
              "mean         60.774755\n",
              "std          71.590645\n",
              "min          -1.000000\n",
              "25%           0.000000\n",
              "50%           0.000000\n",
              "75%         128.000000\n",
              "max         255.000000\n",
              "Name: Rate of Turn, dtype: float64"
            ]
          },
          "metadata": {},
          "execution_count": 24
        }
      ]
    },
    {
      "cell_type": "code",
      "source": [
        "sns.boxplot(x=all_data['Heading Angle'])"
      ],
      "metadata": {
        "colab": {
          "base_uri": "https://localhost:8080/",
          "height": 296
        },
        "id": "nehZRETttRB_",
        "outputId": "7f6892f6-fcb4-494c-a45c-f14baf60590e"
      },
      "execution_count": null,
      "outputs": [
        {
          "output_type": "execute_result",
          "data": {
            "text/plain": [
              "<matplotlib.axes._subplots.AxesSubplot at 0x7f7cfa7d2710>"
            ]
          },
          "metadata": {},
          "execution_count": 25
        },
        {
          "output_type": "display_data",
          "data": {
            "image/png": "[encoded data removed]",
            "text/plain": [
              "<Figure size 432x288 with 1 Axes>"
            ]
          },
          "metadata": {
            "needs_background": "light"
          }
        }
      ]
    },
    {
      "cell_type": "code",
      "source": [
        "all_data['Heading Angle'].describe()"
      ],
      "metadata": {
        "colab": {
          "base_uri": "https://localhost:8080/"
        },
        "id": "fQehVd5LeJjT",
        "outputId": "2cde84dd-c19a-4ed4-ec2a-8752b4c2ef13"
      },
      "execution_count": null,
      "outputs": [
        {
          "output_type": "execute_result",
          "data": {
            "text/plain": [
              "count    932568.000000\n",
              "mean        286.698587\n",
              "std         171.890420\n",
              "min           0.000000\n",
              "25%         128.000000\n",
              "50%         270.000000\n",
              "75%         511.000000\n",
              "max         511.000000\n",
              "Name: Heading Angle, dtype: float64"
            ]
          },
          "metadata": {},
          "execution_count": 26
        }
      ]
    },
    {
      "cell_type": "code",
      "source": [
        "# Refer Tableau for Vessels in Maps"
      ],
      "metadata": {
        "id": "B2cBu0Xuw2pK"
      },
      "execution_count": null,
      "outputs": []
    },
    {
      "cell_type": "code",
      "source": [
        "# Bar graph(AIS type), Histogram(SOG)[for 1/2 MMSI]"
      ],
      "metadata": {
        "id": "FcI_bWMexMPC"
      },
      "execution_count": null,
      "outputs": []
    },
    {
      "cell_type": "code",
      "source": [
        "# Bar graph\n",
        "sns.countplot(x='Channel of AIS',data=all_data)"
      ],
      "metadata": {
        "id": "Z__pa37hz_Jq",
        "colab": {
          "base_uri": "https://localhost:8080/",
          "height": 296
        },
        "outputId": "b4d0fc50-3bfc-4acb-cedc-3b3a5f330374"
      },
      "execution_count": null,
      "outputs": [
        {
          "output_type": "execute_result",
          "data": {
            "text/plain": [
              "<matplotlib.axes._subplots.AxesSubplot at 0x7f7cfa7048d0>"
            ]
          },
          "metadata": {},
          "execution_count": 29
        },
        {
          "output_type": "display_data",
          "data": {
            "image/png": "[encoded data removed]",
            "text/plain": [
              "<Figure size 432x288 with 1 Axes>"
            ]
          },
          "metadata": {
            "needs_background": "light"
          }
        }
      ]
    },
    {
      "cell_type": "code",
      "source": [
        "all_data['Channel of AIS'].value_counts()"
      ],
      "metadata": {
        "colab": {
          "base_uri": "https://localhost:8080/"
        },
        "id": "Zn-BJ4wxpENW",
        "outputId": "8d8b037d-2b32-4275-a643-0f3c59a2b6bb"
      },
      "execution_count": null,
      "outputs": [
        {
          "output_type": "execute_result",
          "data": {
            "text/plain": [
              "A    917714\n",
              "B     14854\n",
              "Name: Channel of AIS, dtype: int64"
            ]
          },
          "metadata": {},
          "execution_count": 30
        }
      ]
    },
    {
      "cell_type": "code",
      "source": [
        "# Histogram Line\n",
        "MMSIvalue=all_data[all_data['MMSI Number']==566241000]\n",
        "print(MMSIvalue.shape)"
      ],
      "metadata": {
        "colab": {
          "base_uri": "https://localhost:8080/"
        },
        "id": "FzVkr-fzhVs3",
        "outputId": "563d90e5-1c41-4f86-a6de-7a70c09597ab"
      },
      "execution_count": null,
      "outputs": [
        {
          "output_type": "stream",
          "name": "stdout",
          "text": [
            "(315, 10)\n"
          ]
        }
      ]
    },
    {
      "cell_type": "code",
      "source": [
        "print(MMSIvalue['Speed Over Ground'])"
      ],
      "metadata": {
        "colab": {
          "base_uri": "https://localhost:8080/"
        },
        "id": "nKW-27JKqBUE",
        "outputId": "d01ccbfc-ba50-45e6-ceb4-99fe69d3706a"
      },
      "execution_count": null,
      "outputs": [
        {
          "output_type": "stream",
          "name": "stdout",
          "text": [
            "0      0.0\n",
            "1      0.0\n",
            "2      0.0\n",
            "3      0.0\n",
            "4      0.0\n",
            "      ... \n",
            "310    0.0\n",
            "311    0.0\n",
            "312    0.5\n",
            "313    0.9\n",
            "314    0.9\n",
            "Name: Speed Over Ground, Length: 315, dtype: float64\n"
          ]
        }
      ]
    },
    {
      "cell_type": "code",
      "source": [
        "plt.plot(MMSIvalue['Speed Over Ground'])\n",
        "plt.xlabel('Row Number')\n",
        "plt.ylabel('Speed Over Ground')\n",
        "plt.title('Speed Over Ground Record of 566241000 (MMSI Number) Vessel')"
      ],
      "metadata": {
        "colab": {
          "base_uri": "https://localhost:8080/",
          "height": 312
        },
        "id": "3kRmBmF9oBl1",
        "outputId": "86ee440c-9daa-4663-c06f-57621ee04845"
      },
      "execution_count": null,
      "outputs": [
        {
          "output_type": "execute_result",
          "data": {
            "text/plain": [
              "Text(0.5, 1.0, 'Speed Over Ground Record of 566241000 (MMSI Number) Vessel')"
            ]
          },
          "metadata": {},
          "execution_count": 33
        },
        {
          "output_type": "display_data",
          "data": {
            "image/png": "[encoded data removed]",
            "text/plain": [
              "<Figure size 432x288 with 1 Axes>"
            ]
          },
          "metadata": {
            "needs_background": "light"
          }
        }
      ]
    },
    {
      "cell_type": "code",
      "source": [
        "# Line graph\n",
        "MMSIvalue2=all_data[all_data['MMSI Number']==636018003]\n",
        "print(MMSIvalue2.shape)\n",
        "sns.lineplot(x=MMSIvalue2['Date Time'],y=MMSIvalue2['Speed Over Ground'])"
      ],
      "metadata": {
        "colab": {
          "base_uri": "https://localhost:8080/",
          "height": 314
        },
        "id": "QwiyneoBqgSC",
        "outputId": "ee361c7d-b84b-40ae-8997-48581e79d1bb"
      },
      "execution_count": null,
      "outputs": [
        {
          "output_type": "stream",
          "name": "stdout",
          "text": [
            "(373, 10)\n"
          ]
        },
        {
          "output_type": "execute_result",
          "data": {
            "text/plain": [
              "<matplotlib.axes._subplots.AxesSubplot at 0x7f7cfa652f90>"
            ]
          },
          "metadata": {},
          "execution_count": 34
        },
        {
          "output_type": "display_data",
          "data": {
            "image/png": "[encoded data removed]",
            "text/plain": [
              "<Figure size 432x288 with 1 Axes>"
            ]
          },
          "metadata": {
            "needs_background": "light"
          }
        }
      ]
    }
  ]
}